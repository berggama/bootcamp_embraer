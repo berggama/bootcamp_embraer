{
  "nbformat": 4,
  "nbformat_minor": 0,
  "metadata": {
    "colab": {
      "provenance": [],
      "collapsed_sections": [],
      "authorship_tag": "ABX9TyOg9PipRF0NxAAkRN/iZwzQ",
      "include_colab_link": true
    },
    "kernelspec": {
      "name": "python3",
      "display_name": "Python 3"
    },
    "language_info": {
      "name": "python"
    }
  },
  "cells": [
    {
      "cell_type": "markdown",
      "metadata": {
        "id": "view-in-github",
        "colab_type": "text"
      },
      "source": [
        "<a href=\"https://colab.research.google.com/github/berggama/bootcamp_embraer/blob/main/desafio_modulo_1.ipynb\" target=\"_parent\"><img src=\"https://colab.research.google.com/assets/colab-badge.svg\" alt=\"Open In Colab\"/></a>"
      ]
    },
    {
      "cell_type": "markdown",
      "source": [
        "# Desafio\n",
        "## Módulo 1 - Fundamentos Desenvolvedor Python"
      ],
      "metadata": {
        "id": "ENtnG1j3Q1uR"
      }
    },
    {
      "cell_type": "markdown",
      "source": [
        "## Objetivos\n",
        "Praticar e consolidar os seguintes conceitos da linguagem Python:\n",
        "- Estruturas de dados (listas, tuplas, conjuntos e dicionários).\n",
        "- Declaração, utilização e argumentos de funções.\n",
        "- Criação, importação e instalação de módulos.\n",
        "- Manipulação de arquivos em discos.\n",
        "- Recursos úteis da linguagem."
      ],
      "metadata": {
        "id": "RoMb34h6Q6hD"
      }
    },
    {
      "cell_type": "markdown",
      "source": [
        "## Enunciado\n",
        "Neste desafio o aluno deverá solucionar problemas simples utilizando a linguagem Python. Serão\n",
        "abordados conceitos como: estruturas de dados, funções e módulos. Após praticar, as questões\n",
        "objetivas devem ser respondidas, considerando os elementos apresentados nas atividades abaixo."
      ],
      "metadata": {
        "id": "n5KhjNwrRCgX"
      }
    },
    {
      "cell_type": "markdown",
      "source": [
        "## Atividades"
      ],
      "metadata": {
        "id": "xa0_RUyWRP2G"
      }
    },
    {
      "cell_type": "markdown",
      "source": [
        "**Atividade 01.**  Execute e analise a saída do seguinte código no Google Colab:\n",
        "```\n",
        "# relação dos nomes\n",
        "nomes = ['Maria', 'Julieta', 'Fernando', 'Cristiano', 'Julieta', 'Maria', 'Fernando', 'Cláudio']\n",
        "# estrutura que irá armazenar o número de letras de cada nome\n",
        "qtd_letras = {}\n",
        "# calcula o tamanho de cada nome (em número de letras) e armazena o valor na estrutura\n",
        "for nome in nomes:\n",
        "qtd_letras[nome] = len(nome)\n",
        "```"
      ],
      "metadata": {
        "id": "cKpdKxyzRRVI"
      }
    },
    {
      "cell_type": "code",
      "execution_count": 85,
      "metadata": {
        "colab": {
          "base_uri": "https://localhost:8080/"
        },
        "id": "jJpzDiGjQmb9",
        "outputId": "71215412-09a6-4dda-c241-bb79ef9420c1"
      },
      "outputs": [
        {
          "output_type": "stream",
          "name": "stdout",
          "text": [
            "{'Maria': 5, 'Julieta': 7, 'Fernando': 8, 'Cristiano': 9, 'Cláudio': 7}\n"
          ]
        }
      ],
      "source": [
        "# relação dos nomes\n",
        "nomes = ['Maria', 'Julieta', 'Fernando', 'Cristiano', 'Julieta', 'Maria', 'Fernando', 'Cláudio']\n",
        "# estrutura que irá armazenar o número de letras de cada nome\n",
        "qtd_letras = {}\n",
        "# calcula o tamanho de cada nome (em número de letras) e armazena o valor na estrutura\n",
        "for nome in nomes:\n",
        "  qtd_letras[nome] = len(nome)\n",
        "print(qtd_letras)"
      ]
    },
    {
      "cell_type": "markdown",
      "source": [
        "**Atividade 02.**  Reescreva o código da Atividade 01 utilizando o conceito de compreensão de\n",
        "dicionários (*dict comprehension*)."
      ],
      "metadata": {
        "id": "rEiN3lw9RxP_"
      }
    },
    {
      "cell_type": "code",
      "source": [
        "# relação dos nomes\n",
        "nomes = ['Maria', 'Julieta', 'Fernando', 'Cristiano', 'Julieta', 'Maria', 'Fernando', 'Cláudio']\n",
        "# dict comprehension\n",
        "qtd_letras = {x: len(x) for x in nomes}\n",
        "print(qtd_letras)"
      ],
      "metadata": {
        "colab": {
          "base_uri": "https://localhost:8080/"
        },
        "id": "Dd5k4dEzRftz",
        "outputId": "1a7169b9-f76c-498d-a7a3-8d22972f1ff9"
      },
      "execution_count": 7,
      "outputs": [
        {
          "output_type": "stream",
          "name": "stdout",
          "text": [
            "{'Maria': 5, 'Julieta': 7, 'Fernando': 8, 'Cristiano': 9, 'Cláudio': 7}\n"
          ]
        }
      ]
    },
    {
      "cell_type": "markdown",
      "source": [
        "**Atividade 03.**  Crie uma função area(r, pi), que calcule a área de um círculo. A área de um círculo é dada por a = πr^2, onde:\n",
        "- π é o número pi, cujo valor é ~3,14159265359;\n",
        "- r é o raio do círculo;\n",
        "\n",
        "Esta função deve receber dois argumentos, r e pi, e retornar a área de um círculo com raio r. Entretanto, você deve fornecer duas opções de utilização da função:\n",
        "\n",
        "a) A utilização de um valor padrão para pi (π = 3,14), sem a necessidade de declarar explicitamente o seu valor;\n",
        "\n",
        "b) A utilização com a declaração explicita do valor exato de pi desejado.\n",
        "\n",
        "Por exemplo, para um raio r = 8, o usuário poderá utilizar a sua função das seguintes maneiras:\n",
        "```\n",
        "# Utilização da função sem declarar pi\n",
        "# Neste caso o valor de pi deverá ser 3.14 e o resultado: 3.14 * (8 ** 2)\n",
        "area(8)\n",
        "# Utilização da função declarando explicitamente o valor de pi\n",
        "# Neste caso o valor de pi deverá ser 3,141592 e o resultado: 3,141592 * (8 ** 2)\n",
        "area(8, 3,141592)\n",
        "```"
      ],
      "metadata": {
        "id": "4VAD0WbzTcK2"
      }
    },
    {
      "cell_type": "code",
      "source": [
        "def area(r,pi=3.14):\n",
        "  area=pi*(r**2)\n",
        "  return area"
      ],
      "metadata": {
        "id": "BIUXzeJtTI2X"
      },
      "execution_count": 8,
      "outputs": []
    },
    {
      "cell_type": "code",
      "source": [
        "print(area(2,3.141592))\n",
        "print(area(2))"
      ],
      "metadata": {
        "colab": {
          "base_uri": "https://localhost:8080/"
        },
        "id": "kVLgXhQnUxKq",
        "outputId": "1d01bdf4-c43e-4c75-e1e8-3e7572a788d5"
      },
      "execution_count": 12,
      "outputs": [
        {
          "output_type": "stream",
          "name": "stdout",
          "text": [
            "12.566368\n",
            "12.56\n"
          ]
        }
      ]
    },
    {
      "cell_type": "markdown",
      "source": [
        "**Atividade 04.**  Reescreva a função area da atividade 3, utilizando o conceito de funções anônimas\n",
        "(funções lambdas)."
      ],
      "metadata": {
        "id": "plgkY4-sVM68"
      }
    },
    {
      "cell_type": "code",
      "source": [
        "area2 = (lambda r,pi=3.14 : pi*(r**2))"
      ],
      "metadata": {
        "id": "FfCurHVDU1CL"
      },
      "execution_count": 14,
      "outputs": []
    },
    {
      "cell_type": "code",
      "source": [
        "print(area2(2,3.141592))\n",
        "print(area2(2,3.14))"
      ],
      "metadata": {
        "colab": {
          "base_uri": "https://localhost:8080/"
        },
        "id": "kk-CuzFeWhN1",
        "outputId": "7ff5302f-939f-40e4-d13f-45e1f142f32a"
      },
      "execution_count": 17,
      "outputs": [
        {
          "output_type": "stream",
          "name": "stdout",
          "text": [
            "12.566368\n",
            "12.56\n"
          ]
        }
      ]
    },
    {
      "cell_type": "markdown",
      "source": [
        "**Atividade 05.** Crie um módulo em Python, chamado processalista (arquivo processalista.py), com asseguintes funções, que deverão receber como argumento uma lista (tipo list) de números inteiros.\n",
        "```\n",
        "# Encontra e retorna o maior número impar presente na lista\n",
        "def maior_impar(lista):\n",
        "# <seu codigo aqui>\n",
        "# Encontra e retorna o menor número impar presente na lista\n",
        "def menor_impar(lista):\n",
        "# <seu codigo aqui>\n",
        "# Encontra e retorna o maior e o menor número ímpar presentes na lista\n",
        "def menor_impar(lista):\n",
        "# <seu codigo aqui>\n",
        "```\n",
        "- Enquanto as duas primeiras funções devem retornar um único valor, a última função deverá retornar dois valores."
      ],
      "metadata": {
        "id": "JiJdzw5tWxfk"
      }
    },
    {
      "cell_type": "code",
      "source": [
        "# Encontra e retorna o maior número impar presente na lista\n",
        "def maior_impar(lista):\n",
        "  impar = []\n",
        "  par =[]\n",
        "  for i in lista:\n",
        "    if i%2==0:\n",
        "      par.append(i)\n",
        "    else:\n",
        "      impar.append(i) \n",
        "  maior=max(impar)\n",
        "  return maior\n",
        "\n",
        "# Encontra e retorna o menor número impar presente na lista\n",
        "def menor_impar(lista):\n",
        "  impar = []\n",
        "  par =[]\n",
        "  for i in lista:\n",
        "    if i%2==0:\n",
        "      par.append(i)\n",
        "    else:\n",
        "      impar.append(i) \n",
        "  menor=min(impar)\n",
        "  return menor\n",
        "# Encontra e retorna o maior e o menor número ímpar presentes na lista\n",
        "def maior_menor_impar(lista):\n",
        "  return maior_impar(lista), menor_impar(lista)"
      ],
      "metadata": {
        "id": "LstKW7gfWliZ"
      },
      "execution_count": 60,
      "outputs": []
    },
    {
      "cell_type": "code",
      "source": [
        "lista = [10,20,30,40,2,1,3,4,2,1,66,45,32,5,46]\n",
        "print(f'maior número impar da lista: {maior_impar(lista)}')\n",
        "print(f'menor número impar da lista: {menor_impar(lista)}')\n",
        "print(f'maior e menor impar da lista: {maior_menor_impar(lista)}')"
      ],
      "metadata": {
        "colab": {
          "base_uri": "https://localhost:8080/"
        },
        "id": "e1qZZi6UhQo3",
        "outputId": "202bb775-3f41-445c-9827-c2cb47002f0b"
      },
      "execution_count": 64,
      "outputs": [
        {
          "output_type": "stream",
          "name": "stdout",
          "text": [
            "maior número impar da lista: 45\n",
            "menor número impar da lista: 1\n",
            "maior e menor impar da lista: (45, 1)\n"
          ]
        }
      ]
    },
    {
      "cell_type": "markdown",
      "source": [
        "**Atividade 06.** Considere a seguinte agenda de disponibilidade de atendimento de uma clínica com vários médicos, cada um de uma especialidade distinta. Esta clínica possuí apenas três consultórios,\n",
        "e, por isso, no máximo três médicos podem atender por dia.\n",
        "![image.png](data:image/png;base64,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)\n",
        "\n",
        "A clínica percebeu que os pacientes que desejam se consultar com mais de um médico sempre\n",
        "solicitam que o atendimento seja realizado no mesmo dia. Por exemplo, um paciente gostaria de se\n",
        "consultar, no mesmo dia, com o **ortopedista** e com o **neurologista**, então os dias disponíveis serão:\n",
        "**terça** e **quinta**. Outro exemplo é um paciente que gostaria de se consultar com o **dermatologista**, o\n",
        "**neurologista** e o **psiquiatra**. O único dia disponível será a **sexta**.\n",
        "Entretanto, essas solicitações estão causando dor de cabeça, pois é necessário verificar\n",
        "manualmente a disponibilidade. Você, como um(a) aspirante a desenvolvedor Python, aceitou o\n",
        "desafio de ajudar a automatizar essa tarefa. Para tanto, irá desenvolver duas funções que receberão\n",
        "a relação de disponibilidade de cada médico e que retornarão os dias disponíveis:\n",
        "\n",
        "```\n",
        "# relação de dias da semana que cada médico atende\n",
        "cardiologista = {'terca', 'quarta'}\n",
        "ortopedista = {'terca', 'quinta'}\n",
        "dermatologista = {'segunda', 'quarta', 'sexta'}\n",
        "neurologista = {'terca', 'quinta', 'sexta'}\n",
        "psiquiatra = {'segunda', 'quarta', 'sexta'}\n",
        "# Calcula quais os dias possíveis para dois médicos\n",
        "def disp_dois_especialistas(medico01, medico02):\n",
        "# <seu codigo aqui>\n",
        "# Calcula quais os dias possíveis para três médicos\n",
        "def disp_tres_especialistas(medico01, medico02, medico03):\n",
        "# <seu codigo aqui>\n",
        "```\n",
        "Assim, para os exemplos anteriores, as funções deverão ter os seguintes retornos:\n",
        "```\n",
        "# Médicos solicitados: ortopedista e neurologista\n",
        "disp_dois_especialistas(ortopedista, neurologista)\n",
        "# RETORNA: terça e quinta\n",
        "# Médicos solicitados: dermatologista, neurologista, psquiatra\n",
        "disp_tres_especialistas(dermatologista, neurologista, psiquiatra)\n",
        "# RETORNA: sexta\n",
        "```"
      ],
      "metadata": {
        "id": "dVhTP24ehOOX"
      }
    },
    {
      "cell_type": "markdown",
      "source": [
        "### Solução 1 - Usando laços de repetição e condicionais"
      ],
      "metadata": {
        "id": "sb5_c32RmOg-"
      }
    },
    {
      "cell_type": "code",
      "source": [
        "# relação de dias da semana que cada médico atende\n",
        "cardiologista = {'terca', 'quarta'}\n",
        "ortopedista = {'terca', 'quinta'}\n",
        "dermatologista = {'segunda', 'quarta', 'sexta'}\n",
        "neurologista = {'terca', 'quinta', 'sexta'}\n",
        "psiquiatra = {'segunda', 'quarta', 'sexta'}\n",
        "# Calcula quais os dias possíveis para dois médicos\n",
        "def disp_dois_especialistas(medico01, medico02):\n",
        "  dias=[]\n",
        "  for i in medico01:\n",
        "    if i in medico02:\n",
        "      dias.append(i)\n",
        "  return print(dias)  \n",
        "\n",
        "# Calcula quais os dias possíveis para três médicos\n",
        "def disp_tres_especialistas(medico01, medico02, medico03):\n",
        "  dias=[]\n",
        "  for i in medico01:\n",
        "    if i in medico02:\n",
        "      if i in medico03:\n",
        "        dias.append(i)\n",
        "  return print(dias)"
      ],
      "metadata": {
        "id": "NhXIK_KpaPvl"
      },
      "execution_count": 79,
      "outputs": []
    },
    {
      "cell_type": "code",
      "source": [
        "# Médicos solicitados: ortopedista e neurologista\n",
        "disp_dois_especialistas(ortopedista, neurologista)\n",
        "# RETORNA: terça e quinta\n",
        "# Médicos solicitados: dermatologista, neurologista, psquiatra\n",
        "disp_tres_especialistas(dermatologista, neurologista, psiquiatra)\n",
        "# RETORNA: sexta"
      ],
      "metadata": {
        "colab": {
          "base_uri": "https://localhost:8080/"
        },
        "id": "FJXo8B3Ue5gA",
        "outputId": "f3ac15c4-4539-46b2-b7e9-1e7534c69c7d"
      },
      "execution_count": 80,
      "outputs": [
        {
          "output_type": "stream",
          "name": "stdout",
          "text": [
            "['quinta', 'terca']\n",
            "['sexta']\n"
          ]
        }
      ]
    },
    {
      "cell_type": "markdown",
      "source": [
        "### Solução 2 - Usando conjuntos e suas operações"
      ],
      "metadata": {
        "id": "gSW67sNDmR5F"
      }
    },
    {
      "cell_type": "code",
      "source": [
        "cardiologista = {'terca', 'quarta'}\n",
        "ortopedista = {'terca', 'quinta'}\n",
        "dermatologista = {'segunda', 'quarta', 'sexta'}\n",
        "neurologista = {'terca', 'quinta', 'sexta'}\n",
        "psiquiatra = {'segunda', 'quarta', 'sexta'}\n",
        "\n",
        "# Calcula quais os dias possíveis para dois médicos\n",
        "def disp_dois_especialistas2(medico01, medico02):\n",
        "  return print(medico01 & medico02)  \n",
        "\n",
        "# Calcula quais os dias possíveis para três médicos\n",
        "def disp_tres_especialistas2(medico01, medico02, medico03):\n",
        "  return print(medico01 & medico02 & medico03)"
      ],
      "metadata": {
        "id": "zAfbOQjCmSbc"
      },
      "execution_count": 83,
      "outputs": []
    },
    {
      "cell_type": "code",
      "source": [
        "# Médicos solicitados: ortopedista e neurologista\n",
        "disp_dois_especialistas2(ortopedista, neurologista)\n",
        "# RETORNA: terça e quinta\n",
        "# Médicos solicitados: dermatologista, neurologista, psquiatra\n",
        "disp_tres_especialistas2(dermatologista, neurologista, psiquiatra)\n",
        "# RETORNA: sexta"
      ],
      "metadata": {
        "colab": {
          "base_uri": "https://localhost:8080/"
        },
        "id": "KKlkN02EnPCu",
        "outputId": "37c4081c-5e60-4459-c2a1-b9b92641924c"
      },
      "execution_count": 84,
      "outputs": [
        {
          "output_type": "stream",
          "name": "stdout",
          "text": [
            "{'quinta', 'terca'}\n",
            "{'sexta'}\n"
          ]
        }
      ]
    }
  ]
}