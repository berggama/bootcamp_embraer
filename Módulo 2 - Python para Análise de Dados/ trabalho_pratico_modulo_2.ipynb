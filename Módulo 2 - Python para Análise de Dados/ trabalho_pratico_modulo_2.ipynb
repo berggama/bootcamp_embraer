{
  "nbformat": 4,
  "nbformat_minor": 0,
  "metadata": {
    "colab": {
      "provenance": [],
      "authorship_tag": "ABX9TyOgZ3BImq0VFV/QKsZuH1/f",
      "include_colab_link": true
    },
    "kernelspec": {
      "name": "python3",
      "display_name": "Python 3"
    },
    "language_info": {
      "name": "python"
    }
  },
  "cells": [
    {
      "cell_type": "markdown",
      "metadata": {
        "id": "view-in-github",
        "colab_type": "text"
      },
      "source": [
        "<a href=\"https://colab.research.google.com/github/berggama/bootcamp_embraer/blob/main/trabalho_pratico_modulo_2.ipynb\" target=\"_parent\"><img src=\"https://colab.research.google.com/assets/colab-badge.svg\" alt=\"Open In Colab\"/></a>"
      ]
    },
    {
      "cell_type": "markdown",
      "source": [
        "# Trabalho Prático\n",
        "## Módulo 2 - Python para a análise de dados"
      ],
      "metadata": {
        "id": "Jim6FEVp-of7"
      }
    },
    {
      "cell_type": "markdown",
      "source": [
        "### Objetivos \n",
        "Exercitar os seguintes conceitos trabalhados no Módulo:\n",
        "- Criação e manipulação de numpy arrays.\n",
        "- Leitura de dados e manipulação de DataFrames e Series no pandas.\n",
        "- Fundamentos de aprendizado de máquinas."
      ],
      "metadata": {
        "id": "a0ulIbFd-zTL"
      }
    },
    {
      "cell_type": "markdown",
      "source": [
        "### Enunciado\n",
        "Em um ambiente de desenvolvimento em Python (recomenda-se o Google\n",
        "Colaboratory), execute e/ou complete os trechos de código contidos nas\n",
        "imagens."
      ],
      "metadata": {
        "id": "V8KeX8_B-98C"
      }
    },
    {
      "cell_type": "markdown",
      "source": [
        "### Atividades"
      ],
      "metadata": {
        "id": "ciQWka6g_E-g"
      }
    },
    {
      "cell_type": "markdown",
      "source": [
        "1) Acessar o ambiente Google Colaboratory (recomendado) ou qualquer ambiente de desenvolvimento em Python."
      ],
      "metadata": {
        "id": "N63gKy-P_Izg"
      }
    },
    {
      "cell_type": "markdown",
      "source": [
        "2) Importar as bibliotecas do numpy e pandas, conforme:\n",
        "```\n",
        "import numpy as np\n",
        "import pandas as pd\n",
        "```"
      ],
      "metadata": {
        "id": "Yhr5Xzdt_Qwg"
      }
    },
    {
      "cell_type": "code",
      "source": [
        "import numpy as np\n",
        "import pandas as pd"
      ],
      "metadata": {
        "id": "3YW8_gsG_QDj"
      },
      "execution_count": 1,
      "outputs": []
    },
    {
      "cell_type": "markdown",
      "source": [
        "3) Executar/Completar os trechos de código a seguir para responder às questões objetivas. Complete-os de forma que o resultado da execução da função print seja igual ao da imagem correspondente. Após isso, responder as perguntas do teste na nossa plataforma. Cada código escrito abaixo, ajudará-lo a responder as questões."
      ],
      "metadata": {
        "id": "xOS3a0lM_fCA"
      }
    },
    {
      "cell_type": "markdown",
      "source": [
        "```\n",
        "#== CÓDIGO 1 == #\n",
        "Z = np.zeros((4,))\n",
        "print(\"Z:\", Z) \n",
        "```"
      ],
      "metadata": {
        "id": "EA4i3E69AuoH"
      }
    },
    {
      "cell_type": "code",
      "execution_count": 2,
      "metadata": {
        "colab": {
          "base_uri": "https://localhost:8080/"
        },
        "id": "zWe80ox1-fNs",
        "outputId": "f1c8ad54-40cb-4094-d947-5eb5b5b9918b"
      },
      "outputs": [
        {
          "output_type": "stream",
          "name": "stdout",
          "text": [
            "Z: [0. 0. 0. 0.]\n"
          ]
        }
      ],
      "source": [
        "# == CÓDIGO 1 == #\n",
        "Z = np.zeros((4,))\n",
        "print(\"Z:\", Z) "
      ]
    },
    {
      "cell_type": "markdown",
      "source": [
        "```\n",
        "#== CÓDIGO 2 == #\n",
        "Z = np.zeros((4,))\n",
        "Z[1] = 1.\n",
        "print(\"Z:\", Z) \n",
        "```"
      ],
      "metadata": {
        "id": "NM3C_HnABCpY"
      }
    },
    {
      "cell_type": "code",
      "source": [
        "# == CÓDIGO 2 == #\n",
        "Z = np.zeros((4,))\n",
        "Z[1] = 1.\n",
        "print(\"Z:\", Z) "
      ],
      "metadata": {
        "colab": {
          "base_uri": "https://localhost:8080/"
        },
        "id": "dlD_RpHkA9UU",
        "outputId": "2341e2bc-93f1-4cec-8bd6-456d7d649e2f"
      },
      "execution_count": 3,
      "outputs": [
        {
          "output_type": "stream",
          "name": "stdout",
          "text": [
            "Z: [0. 1. 0. 0.]\n"
          ]
        }
      ]
    },
    {
      "cell_type": "markdown",
      "source": [
        "```\n",
        "#== CÓDIGO 3 == #\n",
        "Z = np.zeros((4,))\n",
        "Z[1:] = 1.\n",
        "print(\"Z:\", Z) \n",
        "```"
      ],
      "metadata": {
        "id": "c2LzNtyuBVcH"
      }
    },
    {
      "cell_type": "code",
      "source": [
        "# == CÓDIGO 3 == #\n",
        "Z = np.zeros((4,))\n",
        "Z[1:] = 1.\n",
        "print(\"Z:\", Z) "
      ],
      "metadata": {
        "colab": {
          "base_uri": "https://localhost:8080/"
        },
        "id": "1VNQxeUBBRQK",
        "outputId": "6b70d519-6214-4ccd-f818-befee3dc68cb"
      },
      "execution_count": 4,
      "outputs": [
        {
          "output_type": "stream",
          "name": "stdout",
          "text": [
            "Z: [0. 1. 1. 1.]\n"
          ]
        }
      ]
    },
    {
      "cell_type": "markdown",
      "source": [
        "```\n",
        "#== CÓDIGO 4 == #\n",
        "Z = # complete o código\n",
        "# complete o código\n",
        "print(\"Z:\", Z) \n",
        "```\n",
        "Output:\n",
        "```\n",
        "Z:[1. 1. 1. 0.]\n",
        "```"
      ],
      "metadata": {
        "id": "T22vmUfwBi_G"
      }
    },
    {
      "cell_type": "code",
      "source": [
        "# == CÓDIGO 4 == #\n",
        "Z = np.ones(4,)\n",
        "Z[-1] = 0.\n",
        "print(\"Z:\", Z)"
      ],
      "metadata": {
        "colab": {
          "base_uri": "https://localhost:8080/"
        },
        "id": "eF1aQliOBbTS",
        "outputId": "c04242ef-be98-409c-82d0-809f9b67a53a"
      },
      "execution_count": 8,
      "outputs": [
        {
          "output_type": "stream",
          "name": "stdout",
          "text": [
            "Z: [1. 1. 1. 0.]\n"
          ]
        }
      ]
    },
    {
      "cell_type": "markdown",
      "source": [
        "```\n",
        "#== CÓDIGO 5 == #\n",
        "X = # complete o código\n",
        "print(\"X:\\n\", X) \n",
        "```\n",
        "Output:\n",
        "```\n",
        "X:\n",
        "  [[2. 2.]\n",
        "  [2. 2.]]\n",
        "```"
      ],
      "metadata": {
        "id": "lppH8f88Cg5n"
      }
    },
    {
      "cell_type": "code",
      "source": [
        "# == CÓDIGO 5 == #\n",
        "X = np.ones([2,2])*2\n",
        "print(\"X:\\n\", X) "
      ],
      "metadata": {
        "colab": {
          "base_uri": "https://localhost:8080/"
        },
        "id": "1JaIxQFGCHRu",
        "outputId": "02672ab9-f015-4705-d417-a4a6230c905d"
      },
      "execution_count": 12,
      "outputs": [
        {
          "output_type": "stream",
          "name": "stdout",
          "text": [
            "X:\n",
            " [[2. 2.]\n",
            " [2. 2.]]\n"
          ]
        }
      ]
    },
    {
      "cell_type": "markdown",
      "source": [
        "```\n",
        "#== CÓDIGO 6 == #\n",
        "X = np.array([[1, 2], [3, 4]])\n",
        "Y = X[0, :]\n",
        "Y[1] = 10\n",
        "print(\"X:\\n\", X) \n",
        "```"
      ],
      "metadata": {
        "id": "t66fliTADM0G"
      }
    },
    {
      "cell_type": "code",
      "source": [
        "# == CÓDIGO 6 == #\n",
        "X = np.array([[1, 2], [3, 4]])\n",
        "Y = X[0, :]\n",
        "Y[1] = 10\n",
        "print(\"X:\\n\", X) "
      ],
      "metadata": {
        "colab": {
          "base_uri": "https://localhost:8080/"
        },
        "id": "vKRTKYOMC9na",
        "outputId": "e2250d5b-dac0-4d4d-f155-d2c1ab307893"
      },
      "execution_count": 13,
      "outputs": [
        {
          "output_type": "stream",
          "name": "stdout",
          "text": [
            "X:\n",
            " [[ 1 10]\n",
            " [ 3  4]]\n"
          ]
        }
      ]
    },
    {
      "cell_type": "markdown",
      "source": [
        "```\n",
        "#== CÓDIGO 7 == #\n",
        "X = np.array([[1, 3], [11, 10]])\n",
        "print(np.mean(X[X > np.pi])) \n",
        "```"
      ],
      "metadata": {
        "id": "cnX_mV4JDnxV"
      }
    },
    {
      "cell_type": "code",
      "source": [
        "# == CÓDIGO 7 == #\n",
        "X = np.array([[1, 3], [11, 10]])\n",
        "print(np.mean(X[X > np.pi])) "
      ],
      "metadata": {
        "colab": {
          "base_uri": "https://localhost:8080/"
        },
        "id": "x1lAR--jDgDe",
        "outputId": "177a9c25-6d2b-4405-b45c-137ec723ce32"
      },
      "execution_count": 14,
      "outputs": [
        {
          "output_type": "stream",
          "name": "stdout",
          "text": [
            "10.5\n"
          ]
        }
      ]
    },
    {
      "cell_type": "markdown",
      "source": [
        "```\n",
        "#== CÓDIGO 8 == #\n",
        "data = {'animal': ['cat', 'cat', 'snake', 'dog', 'dog', \n",
        "                    'cat', 'snake', 'cat', 'dog', 'dog'],\n",
        "        'age': [2.5, 3, 0.5, np.nan, 5, 2, 4.5, np.nan, 7, 3],\n",
        "        'visits': [1, 3, 2, 3, 2, 3, 1, 1, 2, 1],\n",
        "        'priority': ['yes', 'yes', 'no', 'yes', 'no',\n",
        "                     'no', 'no', 'yes', 'no', 'no']}\n",
        "\n",
        "labels = ['a', 'b', 'c', 'd', 'e', 'f', 'g', 'h', 'i', 'j']\n",
        "```"
      ],
      "metadata": {
        "id": "38c3B4iHD-it"
      }
    },
    {
      "cell_type": "code",
      "source": [
        "#== CÓDIGO 8 == #\n",
        "data = {'animal': ['cat', 'cat', 'snake', 'dog', 'dog', \n",
        "                    'cat', 'snake', 'cat', 'dog', 'dog'],\n",
        "        'age': [2.5, 3, 0.5, np.nan, 5, 2, 4.5, np.nan, 7, 3],\n",
        "        'visits': [1, 3, 2, 3, 2, 3, 1, 1, 2, 1],\n",
        "        'priority': ['yes', 'yes', 'no', 'yes', 'no',\n",
        "                     'no', 'no', 'yes', 'no', 'no']}\n",
        "\n",
        "labels = ['a', 'b', 'c', 'd', 'e', 'f', 'g', 'h', 'i', 'j']"
      ],
      "metadata": {
        "id": "9OUWSkJvD1uf"
      },
      "execution_count": 24,
      "outputs": []
    },
    {
      "cell_type": "markdown",
      "source": [
        "```\n",
        "# == CÓDIGO 9 == #\n",
        "df = pd.DataFrame(data=data, index=labels)\n",
        "```"
      ],
      "metadata": {
        "id": "bHoLp0qeE-uO"
      }
    },
    {
      "cell_type": "code",
      "source": [
        "# == CÓDIGO 9 == #\n",
        "df = pd.DataFrame(data=data, index=labels)"
      ],
      "metadata": {
        "id": "pihFGd2EE8BI"
      },
      "execution_count": 16,
      "outputs": []
    },
    {
      "cell_type": "markdown",
      "source": [
        "```\n",
        "# == CÓDIGO 10 == #\n",
        "y_true = np.array([1., 2., 1.])\n",
        "y_pred = np.array([1.1, 1.98, 1.05])\n",
        "```"
      ],
      "metadata": {
        "id": "gTtbpiGBFRGt"
      }
    },
    {
      "cell_type": "code",
      "source": [
        "# == CÓDIGO 10 == #\n",
        "y_true = np.array([1., 2., 1.])\n",
        "y_pred = np.array([1.1, 1.98, 1.05])"
      ],
      "metadata": {
        "id": "n41k2F0_FO__"
      },
      "execution_count": 51,
      "outputs": []
    }
  ]
}
